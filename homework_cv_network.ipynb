{
 "cells": [
  {
   "cell_type": "code",
   "execution_count": 1,
   "metadata": {},
   "outputs": [
    {
     "name": "stderr",
     "output_type": "stream",
     "text": [
      "Using TensorFlow backend.\n"
     ]
    }
   ],
   "source": [
    "import warnings\n",
    "warnings.filterwarnings('ignore')\n",
    "from keras.models import Sequential\n",
    "from keras.utils import np_utils\n",
    "from keras.layers.core import Dense, Activation, Dropout\n",
    "\n",
    "import pandas as pd\n",
    "import numpy as np\n",
    "\n"
   ]
  },
  {
   "cell_type": "code",
   "execution_count": null,
   "metadata": {
    "collapsed": true
   },
   "outputs": [],
   "source": []
  },
  {
   "cell_type": "code",
   "execution_count": 2,
   "metadata": {},
   "outputs": [],
   "source": [
    "# Импортируем данные\n",
    "train = pd.read_csv('./data/digit/train.csv')\n",
    "labels = train.ix[:,0].values.astype('int32')\n",
    "X_train = (train.ix[:,1:].values).astype('float32')\n",
    "X_test = (pd.read_csv('./data/digit/test.csv').values).astype('float32')\n",
    "\n"
   ]
  },
  {
   "cell_type": "code",
   "execution_count": 3,
   "metadata": {},
   "outputs": [
    {
     "data": {
      "text/plain": [
       "((42000, 784), (28000, 784))"
      ]
     },
     "execution_count": 3,
     "metadata": {},
     "output_type": "execute_result"
    }
   ],
   "source": [
    "X_train.shape, X_test.shape"
   ]
  },
  {
   "cell_type": "markdown",
   "metadata": {},
   "source": [
    "### препроцессинг"
   ]
  },
  {
   "cell_type": "code",
   "execution_count": 4,
   "metadata": {
    "collapsed": true
   },
   "outputs": [],
   "source": [
    "# создаем категориальную матрицу из лейблов\n",
    "Y_train = np_utils.to_categorical(labels) "
   ]
  },
  {
   "cell_type": "code",
   "execution_count": 5,
   "metadata": {
    "collapsed": true
   },
   "outputs": [],
   "source": [
    "\n",
    "# пре-процессинг - нормируем данные \n",
    "\n",
    "# делим на максимальное \n",
    "scale = np.max(X_train)\n",
    "X_train /= scale\n",
    "X_test /= scale\n",
    "\n",
    "\n",
    "# отнимаем среднее\n",
    "\n",
    "mean = np.std(X_train)\n",
    "X_train -= mean\n",
    "X_test -= mean\n",
    "\n",
    "input_dim = X_train.shape[1]\n",
    "nclasses = Y_train.shape[1]\n",
    "\n"
   ]
  },
  {
   "cell_type": "code",
   "execution_count": 6,
   "metadata": {},
   "outputs": [
    {
     "data": {
      "text/plain": [
       "(784, 10)"
      ]
     },
     "execution_count": 6,
     "metadata": {},
     "output_type": "execute_result"
    }
   ],
   "source": [
    "input_dim, nclasses"
   ]
  },
  {
   "cell_type": "markdown",
   "metadata": {},
   "source": [
    "\n",
    " "
   ]
  },
  {
   "cell_type": "code",
   "execution_count": null,
   "metadata": {
    "collapsed": true
   },
   "outputs": [],
   "source": []
  },
  {
   "cell_type": "code",
   "execution_count": 7,
   "metadata": {},
   "outputs": [],
   "source": [
    "# инициируем DDMLP сеть\n",
    "model = Sequential()\n",
    "model.add(Dense(128, input_dim=input_dim, init='lecun_uniform'))\n",
    "model.add(Activation('relu'))\n",
    "model.add(Dropout(0.25))\n",
    "model.add(Dense(128, init='lecun_uniform'))\n",
    "model.add(Activation('relu'))\n",
    "model.add(Dropout(0.25))\n",
    "model.add(Dense(nclasses, init='lecun_uniform'))\n",
    "model.add(Activation('relu'))\n",
    "\n",
    "# комплируем модель\n",
    "model.compile(loss='mse', optimizer='rmsprop', metrics=['accuracy'])"
   ]
  },
  {
   "cell_type": "code",
   "execution_count": 8,
   "metadata": {},
   "outputs": [
    {
     "name": "stdout",
     "output_type": "stream",
     "text": [
      "_________________________________________________________________\n",
      "Layer (type)                 Output Shape              Param #   \n",
      "=================================================================\n",
      "dense_1 (Dense)              (None, 128)               100480    \n",
      "_________________________________________________________________\n",
      "activation_1 (Activation)    (None, 128)               0         \n",
      "_________________________________________________________________\n",
      "dropout_1 (Dropout)          (None, 128)               0         \n",
      "_________________________________________________________________\n",
      "dense_2 (Dense)              (None, 128)               16512     \n",
      "_________________________________________________________________\n",
      "activation_2 (Activation)    (None, 128)               0         \n",
      "_________________________________________________________________\n",
      "dropout_2 (Dropout)          (None, 128)               0         \n",
      "_________________________________________________________________\n",
      "dense_3 (Dense)              (None, 10)                1290      \n",
      "_________________________________________________________________\n",
      "activation_3 (Activation)    (None, 10)                0         \n",
      "=================================================================\n",
      "Total params: 118,282\n",
      "Trainable params: 118,282\n",
      "Non-trainable params: 0\n",
      "_________________________________________________________________\n"
     ]
    }
   ],
   "source": [
    "model.summary()"
   ]
  },
  {
   "cell_type": "code",
   "execution_count": 9,
   "metadata": {},
   "outputs": [
    {
     "name": "stdout",
     "output_type": "stream",
     "text": [
      "Train on 41580 samples, validate on 420 samples\n",
      "Epoch 1/30\n",
      "41580/41580 [==============================] - 4s - loss: 0.0288 - acc: 0.8429 - val_loss: 0.0128 - val_acc: 0.9310\n",
      "Epoch 2/30\n",
      "41580/41580 [==============================] - 4s - loss: 0.0151 - acc: 0.9292 - val_loss: 0.0106 - val_acc: 0.9405\n",
      "Epoch 3/30\n",
      "41580/41580 [==============================] - 4s - loss: 0.0117 - acc: 0.9406 - val_loss: 0.0074 - val_acc: 0.9571\n",
      "Epoch 4/30\n",
      "41580/41580 [==============================] - 4s - loss: 0.0101 - acc: 0.9476 - val_loss: 0.0078 - val_acc: 0.9524\n",
      "Epoch 5/30\n",
      "41580/41580 [==============================] - 4s - loss: 0.0090 - acc: 0.9525 - val_loss: 0.0073 - val_acc: 0.9571\n",
      "Epoch 6/30\n",
      "41580/41580 [==============================] - 4s - loss: 0.0082 - acc: 0.9556 - val_loss: 0.0069 - val_acc: 0.9500\n",
      "Epoch 7/30\n",
      "41580/41580 [==============================] - 4s - loss: 0.0077 - acc: 0.9579 - val_loss: 0.0058 - val_acc: 0.9690\n",
      "Epoch 8/30\n",
      "41580/41580 [==============================] - 4s - loss: 0.0075 - acc: 0.9589 - val_loss: 0.0066 - val_acc: 0.9571\n",
      "Epoch 9/30\n",
      "41580/41580 [==============================] - 4s - loss: 0.0070 - acc: 0.9617 - val_loss: 0.0065 - val_acc: 0.9524\n",
      "Epoch 10/30\n",
      "41580/41580 [==============================] - 4s - loss: 0.0068 - acc: 0.9621 - val_loss: 0.0059 - val_acc: 0.9619\n",
      "Epoch 11/30\n",
      "41580/41580 [==============================] - 4s - loss: 0.0066 - acc: 0.9629 - val_loss: 0.0061 - val_acc: 0.9571\n",
      "Epoch 12/30\n",
      "41580/41580 [==============================] - 4s - loss: 0.0062 - acc: 0.9657 - val_loss: 0.0048 - val_acc: 0.9690\n",
      "Epoch 13/30\n",
      "41580/41580 [==============================] - 4s - loss: 0.0061 - acc: 0.9658 - val_loss: 0.0063 - val_acc: 0.9595\n",
      "Epoch 14/30\n",
      "41580/41580 [==============================] - 4s - loss: 0.0060 - acc: 0.9660 - val_loss: 0.0058 - val_acc: 0.9643\n",
      "Epoch 15/30\n",
      "41580/41580 [==============================] - 4s - loss: 0.0059 - acc: 0.9673 - val_loss: 0.0047 - val_acc: 0.9690\n",
      "Epoch 16/30\n",
      "41580/41580 [==============================] - 4s - loss: 0.0060 - acc: 0.9662 - val_loss: 0.0049 - val_acc: 0.9738\n",
      "Epoch 17/30\n",
      "41580/41580 [==============================] - 4s - loss: 0.0059 - acc: 0.9668 - val_loss: 0.0049 - val_acc: 0.9690\n",
      "Epoch 18/30\n",
      "41580/41580 [==============================] - 4s - loss: 0.0054 - acc: 0.9693 - val_loss: 0.0045 - val_acc: 0.9714\n",
      "Epoch 19/30\n",
      "41580/41580 [==============================] - 4s - loss: 0.0056 - acc: 0.9685 - val_loss: 0.0056 - val_acc: 0.9643\n",
      "Epoch 20/30\n",
      "41580/41580 [==============================] - 4s - loss: 0.0055 - acc: 0.9698 - val_loss: 0.0060 - val_acc: 0.9643\n",
      "Epoch 21/30\n",
      "41580/41580 [==============================] - 4s - loss: 0.0054 - acc: 0.9695 - val_loss: 0.0044 - val_acc: 0.9786\n",
      "Epoch 22/30\n",
      "41580/41580 [==============================] - 4s - loss: 0.0053 - acc: 0.9704 - val_loss: 0.0049 - val_acc: 0.9762\n",
      "Epoch 23/30\n",
      "41580/41580 [==============================] - 4s - loss: 0.0052 - acc: 0.9719 - val_loss: 0.0057 - val_acc: 0.9714\n",
      "Epoch 24/30\n",
      "41580/41580 [==============================] - 5s - loss: 0.0052 - acc: 0.9712 - val_loss: 0.0061 - val_acc: 0.9667\n",
      "Epoch 25/30\n",
      "41580/41580 [==============================] - 4s - loss: 0.0052 - acc: 0.9705 - val_loss: 0.0051 - val_acc: 0.9714\n",
      "Epoch 26/30\n",
      "41580/41580 [==============================] - 5s - loss: 0.0051 - acc: 0.9718 - val_loss: 0.0061 - val_acc: 0.9619\n",
      "Epoch 27/30\n",
      "41580/41580 [==============================] - 5s - loss: 0.0050 - acc: 0.9723 - val_loss: 0.0044 - val_acc: 0.9738\n",
      "Epoch 28/30\n",
      "41580/41580 [==============================] - 4s - loss: 0.0049 - acc: 0.9723 - val_loss: 0.0048 - val_acc: 0.9762\n",
      "Epoch 29/30\n",
      "41580/41580 [==============================] - 4s - loss: 0.0050 - acc: 0.9720 - val_loss: 0.0043 - val_acc: 0.9762\n",
      "Epoch 30/30\n",
      "41580/41580 [==============================] - 4s - loss: 0.0049 - acc: 0.9729 - val_loss: 0.0044 - val_acc: 0.9690\n"
     ]
    },
    {
     "data": {
      "text/plain": [
       "<keras.callbacks.History at 0x11f648c18>"
      ]
     },
     "execution_count": 9,
     "metadata": {},
     "output_type": "execute_result"
    }
   ],
   "source": [
    "## Фитим сгенерированную модель и проверяем скоринг на валидации 0.01\n",
    "model.fit(X_train, Y_train, epochs=30, batch_size=64, validation_split=0.01, verbose=1)\n",
    "\n"
   ]
  },
  {
   "cell_type": "code",
   "execution_count": null,
   "metadata": {
    "collapsed": true
   },
   "outputs": [],
   "source": []
  },
  {
   "cell_type": "code",
   "execution_count": 10,
   "metadata": {},
   "outputs": [
    {
     "name": "stdout",
     "output_type": "stream",
     "text": [
      "27008/28000 [===========================>..] - ETA: 0s"
     ]
    }
   ],
   "source": [
    "## предсказываем\n",
    "predictions = model.predict_classes(X_test, verbose=1)\n",
    "\n",
    "\n"
   ]
  },
  {
   "cell_type": "code",
   "execution_count": null,
   "metadata": {},
   "outputs": [],
   "source": []
  },
  {
   "cell_type": "code",
   "execution_count": 12,
   "metadata": {},
   "outputs": [],
   "source": [
    "def write_preds(preds, f):\n",
    "    pd.DataFrame({\"ImageId\": list(range(1,len(preds)+1)), \"Label\": predictions}).to_csv(f, index=False, header=True)\n",
    "\n",
    "write_preds(predictions, \"cv_predictions.txt\")\n"
   ]
  },
  {
   "cell_type": "code",
   "execution_count": null,
   "metadata": {
    "collapsed": true
   },
   "outputs": [],
   "source": [
    "### kaggle 0.96657"
   ]
  },
  {
   "cell_type": "code",
   "execution_count": null,
   "metadata": {
    "collapsed": true
   },
   "outputs": [],
   "source": []
  }
 ],
 "metadata": {
  "kernelspec": {
   "display_name": "Python 3",
   "language": "python",
   "name": "python3"
  },
  "language_info": {
   "codemirror_mode": {
    "name": "ipython",
    "version": 3
   },
   "file_extension": ".py",
   "mimetype": "text/x-python",
   "name": "python",
   "nbconvert_exporter": "python",
   "pygments_lexer": "ipython3",
   "version": "3.6.1"
  }
 },
 "nbformat": 4,
 "nbformat_minor": 2
}
