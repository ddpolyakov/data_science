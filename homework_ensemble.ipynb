{
 "cells": [
  {
   "cell_type": "markdown",
   "metadata": {},
   "source": [
    "# Titanic: Machine Learning from Disaster"
   ]
  },
  {
   "cell_type": "code",
   "execution_count": 1,
   "metadata": {
    "collapsed": true
   },
   "outputs": [],
   "source": [
    "# https://www.kaggle.com/c/titanic"
   ]
  },
  {
   "cell_type": "code",
   "execution_count": 20,
   "metadata": {
    "collapsed": true
   },
   "outputs": [],
   "source": [
    "import sklearn\n",
    "import pandas as pd\n",
    "import matplotlib.pyplot as plt"
   ]
  },
  {
   "cell_type": "code",
   "execution_count": 4,
   "metadata": {},
   "outputs": [],
   "source": [
    "# Загружаем данные из файлов\n",
    "train = pd.read_csv('./titanic/train.csv')\n",
    "test = pd.read_csv('./titanic/test.csv')"
   ]
  },
  {
   "cell_type": "code",
   "execution_count": 5,
   "metadata": {},
   "outputs": [
    {
     "data": {
      "text/html": [
       "<div>\n",
       "<style>\n",
       "    .dataframe thead tr:only-child th {\n",
       "        text-align: right;\n",
       "    }\n",
       "\n",
       "    .dataframe thead th {\n",
       "        text-align: left;\n",
       "    }\n",
       "\n",
       "    .dataframe tbody tr th {\n",
       "        vertical-align: top;\n",
       "    }\n",
       "</style>\n",
       "<table border=\"1\" class=\"dataframe\">\n",
       "  <thead>\n",
       "    <tr style=\"text-align: right;\">\n",
       "      <th></th>\n",
       "      <th>PassengerId</th>\n",
       "      <th>Survived</th>\n",
       "      <th>Pclass</th>\n",
       "      <th>Name</th>\n",
       "      <th>Sex</th>\n",
       "      <th>Age</th>\n",
       "      <th>SibSp</th>\n",
       "      <th>Parch</th>\n",
       "      <th>Ticket</th>\n",
       "      <th>Fare</th>\n",
       "      <th>Cabin</th>\n",
       "      <th>Embarked</th>\n",
       "    </tr>\n",
       "  </thead>\n",
       "  <tbody>\n",
       "    <tr>\n",
       "      <th>0</th>\n",
       "      <td>1</td>\n",
       "      <td>0</td>\n",
       "      <td>3</td>\n",
       "      <td>Braund, Mr. Owen Harris</td>\n",
       "      <td>male</td>\n",
       "      <td>22.0</td>\n",
       "      <td>1</td>\n",
       "      <td>0</td>\n",
       "      <td>A/5 21171</td>\n",
       "      <td>7.2500</td>\n",
       "      <td>NaN</td>\n",
       "      <td>S</td>\n",
       "    </tr>\n",
       "    <tr>\n",
       "      <th>1</th>\n",
       "      <td>2</td>\n",
       "      <td>1</td>\n",
       "      <td>1</td>\n",
       "      <td>Cumings, Mrs. John Bradley (Florence Briggs Th...</td>\n",
       "      <td>female</td>\n",
       "      <td>38.0</td>\n",
       "      <td>1</td>\n",
       "      <td>0</td>\n",
       "      <td>PC 17599</td>\n",
       "      <td>71.2833</td>\n",
       "      <td>C85</td>\n",
       "      <td>C</td>\n",
       "    </tr>\n",
       "    <tr>\n",
       "      <th>2</th>\n",
       "      <td>3</td>\n",
       "      <td>1</td>\n",
       "      <td>3</td>\n",
       "      <td>Heikkinen, Miss. Laina</td>\n",
       "      <td>female</td>\n",
       "      <td>26.0</td>\n",
       "      <td>0</td>\n",
       "      <td>0</td>\n",
       "      <td>STON/O2. 3101282</td>\n",
       "      <td>7.9250</td>\n",
       "      <td>NaN</td>\n",
       "      <td>S</td>\n",
       "    </tr>\n",
       "    <tr>\n",
       "      <th>3</th>\n",
       "      <td>4</td>\n",
       "      <td>1</td>\n",
       "      <td>1</td>\n",
       "      <td>Futrelle, Mrs. Jacques Heath (Lily May Peel)</td>\n",
       "      <td>female</td>\n",
       "      <td>35.0</td>\n",
       "      <td>1</td>\n",
       "      <td>0</td>\n",
       "      <td>113803</td>\n",
       "      <td>53.1000</td>\n",
       "      <td>C123</td>\n",
       "      <td>S</td>\n",
       "    </tr>\n",
       "    <tr>\n",
       "      <th>4</th>\n",
       "      <td>5</td>\n",
       "      <td>0</td>\n",
       "      <td>3</td>\n",
       "      <td>Allen, Mr. William Henry</td>\n",
       "      <td>male</td>\n",
       "      <td>35.0</td>\n",
       "      <td>0</td>\n",
       "      <td>0</td>\n",
       "      <td>373450</td>\n",
       "      <td>8.0500</td>\n",
       "      <td>NaN</td>\n",
       "      <td>S</td>\n",
       "    </tr>\n",
       "  </tbody>\n",
       "</table>\n",
       "</div>"
      ],
      "text/plain": [
       "   PassengerId  Survived  Pclass  \\\n",
       "0            1         0       3   \n",
       "1            2         1       1   \n",
       "2            3         1       3   \n",
       "3            4         1       1   \n",
       "4            5         0       3   \n",
       "\n",
       "                                                Name     Sex   Age  SibSp  \\\n",
       "0                            Braund, Mr. Owen Harris    male  22.0      1   \n",
       "1  Cumings, Mrs. John Bradley (Florence Briggs Th...  female  38.0      1   \n",
       "2                             Heikkinen, Miss. Laina  female  26.0      0   \n",
       "3       Futrelle, Mrs. Jacques Heath (Lily May Peel)  female  35.0      1   \n",
       "4                           Allen, Mr. William Henry    male  35.0      0   \n",
       "\n",
       "   Parch            Ticket     Fare Cabin Embarked  \n",
       "0      0         A/5 21171   7.2500   NaN        S  \n",
       "1      0          PC 17599  71.2833   C85        C  \n",
       "2      0  STON/O2. 3101282   7.9250   NaN        S  \n",
       "3      0            113803  53.1000  C123        S  \n",
       "4      0            373450   8.0500   NaN        S  "
      ]
     },
     "execution_count": 5,
     "metadata": {},
     "output_type": "execute_result"
    }
   ],
   "source": [
    "train.head()"
   ]
  },
  {
   "cell_type": "markdown",
   "metadata": {},
   "source": [
    "## Предобработка данных"
   ]
  },
  {
   "cell_type": "code",
   "execution_count": 6,
   "metadata": {
    "collapsed": true
   },
   "outputs": [],
   "source": [
    "# Заполняем пропуски в данных медианными \n",
    "# значениями факторов на обучающей выборке\n",
    "train_median = train.median()\n",
    "train_imp = train.fillna(train_median)\n",
    "test_imp = test.fillna(train_median)"
   ]
  },
  {
   "cell_type": "code",
   "execution_count": 7,
   "metadata": {
    "collapsed": true
   },
   "outputs": [],
   "source": [
    "# Бинаризуем категориальные признаки\n",
    "CATEGORY_COL = ['Sex', 'Pclass', 'Embarked']\n",
    "train_dummies = pd.get_dummies(train_imp, columns=CATEGORY_COL, drop_first=True)\n",
    "test_dummies = pd.get_dummies(test_imp, columns=CATEGORY_COL, drop_first=True)"
   ]
  },
  {
   "cell_type": "code",
   "execution_count": 8,
   "metadata": {},
   "outputs": [
    {
     "data": {
      "text/html": [
       "<div>\n",
       "<style>\n",
       "    .dataframe thead tr:only-child th {\n",
       "        text-align: right;\n",
       "    }\n",
       "\n",
       "    .dataframe thead th {\n",
       "        text-align: left;\n",
       "    }\n",
       "\n",
       "    .dataframe tbody tr th {\n",
       "        vertical-align: top;\n",
       "    }\n",
       "</style>\n",
       "<table border=\"1\" class=\"dataframe\">\n",
       "  <thead>\n",
       "    <tr style=\"text-align: right;\">\n",
       "      <th></th>\n",
       "      <th>PassengerId</th>\n",
       "      <th>Survived</th>\n",
       "      <th>Name</th>\n",
       "      <th>Age</th>\n",
       "      <th>SibSp</th>\n",
       "      <th>Parch</th>\n",
       "      <th>Ticket</th>\n",
       "      <th>Fare</th>\n",
       "      <th>Cabin</th>\n",
       "      <th>Sex_male</th>\n",
       "      <th>Pclass_2</th>\n",
       "      <th>Pclass_3</th>\n",
       "      <th>Embarked_Q</th>\n",
       "      <th>Embarked_S</th>\n",
       "    </tr>\n",
       "  </thead>\n",
       "  <tbody>\n",
       "    <tr>\n",
       "      <th>0</th>\n",
       "      <td>1</td>\n",
       "      <td>0</td>\n",
       "      <td>Braund, Mr. Owen Harris</td>\n",
       "      <td>22.0</td>\n",
       "      <td>1</td>\n",
       "      <td>0</td>\n",
       "      <td>A/5 21171</td>\n",
       "      <td>7.2500</td>\n",
       "      <td>NaN</td>\n",
       "      <td>1</td>\n",
       "      <td>0</td>\n",
       "      <td>1</td>\n",
       "      <td>0</td>\n",
       "      <td>1</td>\n",
       "    </tr>\n",
       "    <tr>\n",
       "      <th>1</th>\n",
       "      <td>2</td>\n",
       "      <td>1</td>\n",
       "      <td>Cumings, Mrs. John Bradley (Florence Briggs Th...</td>\n",
       "      <td>38.0</td>\n",
       "      <td>1</td>\n",
       "      <td>0</td>\n",
       "      <td>PC 17599</td>\n",
       "      <td>71.2833</td>\n",
       "      <td>C85</td>\n",
       "      <td>0</td>\n",
       "      <td>0</td>\n",
       "      <td>0</td>\n",
       "      <td>0</td>\n",
       "      <td>0</td>\n",
       "    </tr>\n",
       "    <tr>\n",
       "      <th>2</th>\n",
       "      <td>3</td>\n",
       "      <td>1</td>\n",
       "      <td>Heikkinen, Miss. Laina</td>\n",
       "      <td>26.0</td>\n",
       "      <td>0</td>\n",
       "      <td>0</td>\n",
       "      <td>STON/O2. 3101282</td>\n",
       "      <td>7.9250</td>\n",
       "      <td>NaN</td>\n",
       "      <td>0</td>\n",
       "      <td>0</td>\n",
       "      <td>1</td>\n",
       "      <td>0</td>\n",
       "      <td>1</td>\n",
       "    </tr>\n",
       "    <tr>\n",
       "      <th>3</th>\n",
       "      <td>4</td>\n",
       "      <td>1</td>\n",
       "      <td>Futrelle, Mrs. Jacques Heath (Lily May Peel)</td>\n",
       "      <td>35.0</td>\n",
       "      <td>1</td>\n",
       "      <td>0</td>\n",
       "      <td>113803</td>\n",
       "      <td>53.1000</td>\n",
       "      <td>C123</td>\n",
       "      <td>0</td>\n",
       "      <td>0</td>\n",
       "      <td>0</td>\n",
       "      <td>0</td>\n",
       "      <td>1</td>\n",
       "    </tr>\n",
       "    <tr>\n",
       "      <th>4</th>\n",
       "      <td>5</td>\n",
       "      <td>0</td>\n",
       "      <td>Allen, Mr. William Henry</td>\n",
       "      <td>35.0</td>\n",
       "      <td>0</td>\n",
       "      <td>0</td>\n",
       "      <td>373450</td>\n",
       "      <td>8.0500</td>\n",
       "      <td>NaN</td>\n",
       "      <td>1</td>\n",
       "      <td>0</td>\n",
       "      <td>1</td>\n",
       "      <td>0</td>\n",
       "      <td>1</td>\n",
       "    </tr>\n",
       "  </tbody>\n",
       "</table>\n",
       "</div>"
      ],
      "text/plain": [
       "   PassengerId  Survived                                               Name  \\\n",
       "0            1         0                            Braund, Mr. Owen Harris   \n",
       "1            2         1  Cumings, Mrs. John Bradley (Florence Briggs Th...   \n",
       "2            3         1                             Heikkinen, Miss. Laina   \n",
       "3            4         1       Futrelle, Mrs. Jacques Heath (Lily May Peel)   \n",
       "4            5         0                           Allen, Mr. William Henry   \n",
       "\n",
       "    Age  SibSp  Parch            Ticket     Fare Cabin  Sex_male  Pclass_2  \\\n",
       "0  22.0      1      0         A/5 21171   7.2500   NaN         1         0   \n",
       "1  38.0      1      0          PC 17599  71.2833   C85         0         0   \n",
       "2  26.0      0      0  STON/O2. 3101282   7.9250   NaN         0         0   \n",
       "3  35.0      1      0            113803  53.1000  C123         0         0   \n",
       "4  35.0      0      0            373450   8.0500   NaN         1         0   \n",
       "\n",
       "   Pclass_3  Embarked_Q  Embarked_S  \n",
       "0         1           0           1  \n",
       "1         0           0           0  \n",
       "2         1           0           1  \n",
       "3         0           0           1  \n",
       "4         1           0           1  "
      ]
     },
     "execution_count": 8,
     "metadata": {},
     "output_type": "execute_result"
    }
   ],
   "source": [
    "train_dummies.head()"
   ]
  },
  {
   "cell_type": "code",
   "execution_count": 10,
   "metadata": {
    "collapsed": true
   },
   "outputs": [],
   "source": [
    "# Удаляем лишние столбцы\n",
    "DROP_COL = ['PassengerId', 'Name', 'Ticket', 'Cabin']\n",
    "TARGET_COL = 'Survived'\n",
    "X_train = train_dummies.drop(DROP_COL + [TARGET_COL], axis=1)\n",
    "y_train = train_dummies[TARGET_COL]\n",
    "X_test = test_dummies.drop(DROP_COL, axis=1)"
   ]
  },
  {
   "cell_type": "code",
   "execution_count": 34,
   "metadata": {
    "collapsed": true
   },
   "outputs": [],
   "source": [
    "from sklearn.model_selection import GridSearchCV\n",
    "from sklearn.linear_model import LogisticRegression\n",
    "from sklearn.pipeline import Pipeline\n",
    "from sklearn.metrics import r2_score, scorer, accuracy_score"
   ]
  },
  {
   "cell_type": "markdown",
   "metadata": {},
   "source": [
    "## Предсказание моделей для стеккинга"
   ]
  },
  {
   "cell_type": "code",
   "execution_count": 71,
   "metadata": {},
   "outputs": [],
   "source": [
    "import numpy as np\n",
    "from sklearn.model_selection import cross_val_predict\n",
    "from sklearn.model_selection import KFold\n",
    "from sklearn.ensemble import RandomForestClassifier\n",
    "from sklearn.ensemble import GradientBoostingClassifier\n",
    "from sklearn.linear_model import LogisticRegression\n",
    "\n",
    "def cross_val_predict_proba(estimator, X_train, y_train):\n",
    "    kfold = KFold(n_splits=4, shuffle=True, random_state=None)\n",
    "    return cross_val_predict(estimator, X_train, y_train, cv=kfold, method='predict_proba')\n",
    "\n",
    "# TODO: подобрать гиперпараметры для ансамблей\n",
    "\n",
    "pipeline_ens_gbc = Pipeline(steps=[#('rfc_est', RandomForestClassifier()),\n",
    "                           ('gbc_est', GradientBoostingClassifier(learning_rate=0.1, \\\n",
    "                                                                  min_samples_split=500,\\\n",
    "                                                                  min_samples_leaf=50,\\\n",
    "                                                                  max_depth=8,\\\n",
    "                                                                  max_features='sqrt',\\\n",
    "                                                                  subsample=0.8,\\\n",
    "                                                                  random_state=10))\n",
    "                          ])\n",
    "\n",
    "pipeline_ens_lgr = Pipeline(steps=[#('rfc_est', RandomForestClassifier()),\n",
    "                           ('lgr_est', LogisticRegression(C=1))\n",
    "                          ])\n",
    "\n",
    "\n",
    "\n",
    "\n",
    "pipeline_ens_rfc = Pipeline(steps=[('rfc_est', RandomForestClassifier())\n",
    "                           #('gbc_est', GradientBoostingClassifier())\n",
    "                          ])\n",
    "\n",
    "\n",
    "param_grid_ens_gbc = {#'rdc_est__max_depth': range(1,100),\n",
    "                  'gbc_est__n_estimators': range(30, 120, 10)\n",
    "}\n",
    "\n",
    "param_grid_ens_rfc = {'rfc_est__max_depth': range(1,100)\n",
    "                  #'gbc_est__n_estimatores': range(30, 80, 10)\n",
    "                     }\n",
    "\n",
    "\n",
    "param_grid_ens_lgr = {'lgr_est__C': [1,10,100,1000,10000]\n",
    "                  #'gbc_est__n_estimatores': range(30, 80, 10)\n",
    "                     }\n",
    "\n",
    "grid_ens_gbc = GridSearchCV(pipeline_ens_gbc, param_grid_ens_gbc, \n",
    "                    scoring=make_scorer(accuracy_score),\n",
    "                    cv=kfold)\n",
    "\n",
    "\n",
    "grid_ens_rfc = GridSearchCV(pipeline_ens_rfc, param_grid_ens_rfc, \n",
    "                    scoring=make_scorer(accuracy_score),\n",
    "                    cv=kfold)\n",
    "\n",
    "grid_ens_lgr = GridSearchCV(pipeline_ens_lgr, param_grid_ens_lgr, \n",
    "                    scoring=make_scorer(accuracy_score),\n",
    "                    cv=kfold)\n",
    "\n",
    "# инициализирем модели с подобранными гиперпараметрами\n",
    "lgr_estimator = grid_ens_lgr.fit(X_train, y_train)\n",
    "rf_estimator = grid_ens_rfc.fit(X_train, y_train)\n",
    "gb_estimator = grid_ens_gbc.fit(X_train, y_train)\n",
    "\n"
   ]
  },
  {
   "cell_type": "code",
   "execution_count": 72,
   "metadata": {},
   "outputs": [
    {
     "name": "stderr",
     "output_type": "stream",
     "text": [
      "/Users/Feldman/anaconda3/lib/python3.6/site-packages/sklearn/model_selection/_search.py:667: DeprecationWarning: The grid_scores_ attribute was deprecated in version 0.18 in favor of the more elaborate cv_results_ attribute. The grid_scores_ attribute will not be available from 0.20\n",
      "  DeprecationWarning)\n"
     ]
    },
    {
     "data": {
      "text/plain": [
       "([mean: 0.74411, std: 0.06796, params: {'rfc_est__max_depth': 1},\n",
       "  mean: 0.76655, std: 0.04574, params: {'rfc_est__max_depth': 2},\n",
       "  mean: 0.80247, std: 0.04700, params: {'rfc_est__max_depth': 3},\n",
       "  mean: 0.82267, std: 0.03551, params: {'rfc_est__max_depth': 4},\n",
       "  mean: 0.82604, std: 0.03766, params: {'rfc_est__max_depth': 5},\n",
       "  mean: 0.82604, std: 0.03843, params: {'rfc_est__max_depth': 6},\n",
       "  mean: 0.82828, std: 0.02941, params: {'rfc_est__max_depth': 7},\n",
       "  mean: 0.81930, std: 0.02625, params: {'rfc_est__max_depth': 8},\n",
       "  mean: 0.82155, std: 0.02780, params: {'rfc_est__max_depth': 9},\n",
       "  mean: 0.82828, std: 0.02749, params: {'rfc_est__max_depth': 10},\n",
       "  mean: 0.81706, std: 0.03818, params: {'rfc_est__max_depth': 11},\n",
       "  mean: 0.80808, std: 0.04518, params: {'rfc_est__max_depth': 12},\n",
       "  mean: 0.81481, std: 0.04120, params: {'rfc_est__max_depth': 13},\n",
       "  mean: 0.81930, std: 0.02951, params: {'rfc_est__max_depth': 14},\n",
       "  mean: 0.80920, std: 0.03401, params: {'rfc_est__max_depth': 15},\n",
       "  mean: 0.80022, std: 0.03070, params: {'rfc_est__max_depth': 16},\n",
       "  mean: 0.80920, std: 0.04455, params: {'rfc_est__max_depth': 17},\n",
       "  mean: 0.80696, std: 0.03489, params: {'rfc_est__max_depth': 18},\n",
       "  mean: 0.81481, std: 0.03641, params: {'rfc_est__max_depth': 19},\n",
       "  mean: 0.79349, std: 0.04354, params: {'rfc_est__max_depth': 20},\n",
       "  mean: 0.80808, std: 0.04133, params: {'rfc_est__max_depth': 21},\n",
       "  mean: 0.81930, std: 0.03564, params: {'rfc_est__max_depth': 22},\n",
       "  mean: 0.80359, std: 0.02704, params: {'rfc_est__max_depth': 23},\n",
       "  mean: 0.81369, std: 0.02151, params: {'rfc_est__max_depth': 24},\n",
       "  mean: 0.80808, std: 0.03259, params: {'rfc_est__max_depth': 25},\n",
       "  mean: 0.81369, std: 0.04832, params: {'rfc_est__max_depth': 26},\n",
       "  mean: 0.80920, std: 0.02492, params: {'rfc_est__max_depth': 27},\n",
       "  mean: 0.81033, std: 0.03989, params: {'rfc_est__max_depth': 28},\n",
       "  mean: 0.81369, std: 0.03023, params: {'rfc_est__max_depth': 29},\n",
       "  mean: 0.81818, std: 0.02872, params: {'rfc_est__max_depth': 30},\n",
       "  mean: 0.81818, std: 0.04863, params: {'rfc_est__max_depth': 31},\n",
       "  mean: 0.81145, std: 0.03670, params: {'rfc_est__max_depth': 32},\n",
       "  mean: 0.81257, std: 0.03279, params: {'rfc_est__max_depth': 33},\n",
       "  mean: 0.81145, std: 0.03887, params: {'rfc_est__max_depth': 34},\n",
       "  mean: 0.81706, std: 0.03986, params: {'rfc_est__max_depth': 35},\n",
       "  mean: 0.80022, std: 0.05002, params: {'rfc_est__max_depth': 36},\n",
       "  mean: 0.79910, std: 0.03658, params: {'rfc_est__max_depth': 37},\n",
       "  mean: 0.81145, std: 0.03671, params: {'rfc_est__max_depth': 38},\n",
       "  mean: 0.81033, std: 0.03753, params: {'rfc_est__max_depth': 39},\n",
       "  mean: 0.81033, std: 0.03589, params: {'rfc_est__max_depth': 40},\n",
       "  mean: 0.81145, std: 0.03904, params: {'rfc_est__max_depth': 41},\n",
       "  mean: 0.81594, std: 0.02855, params: {'rfc_est__max_depth': 42},\n",
       "  mean: 0.81481, std: 0.03226, params: {'rfc_est__max_depth': 43},\n",
       "  mean: 0.80022, std: 0.04115, params: {'rfc_est__max_depth': 44},\n",
       "  mean: 0.80920, std: 0.03162, params: {'rfc_est__max_depth': 45},\n",
       "  mean: 0.81481, std: 0.03743, params: {'rfc_est__max_depth': 46},\n",
       "  mean: 0.81369, std: 0.03551, params: {'rfc_est__max_depth': 47},\n",
       "  mean: 0.80808, std: 0.03298, params: {'rfc_est__max_depth': 48},\n",
       "  mean: 0.80135, std: 0.03257, params: {'rfc_est__max_depth': 49},\n",
       "  mean: 0.80471, std: 0.04926, params: {'rfc_est__max_depth': 50},\n",
       "  mean: 0.81145, std: 0.04374, params: {'rfc_est__max_depth': 51},\n",
       "  mean: 0.80584, std: 0.03442, params: {'rfc_est__max_depth': 52},\n",
       "  mean: 0.80584, std: 0.02848, params: {'rfc_est__max_depth': 53},\n",
       "  mean: 0.81033, std: 0.03482, params: {'rfc_est__max_depth': 54},\n",
       "  mean: 0.79237, std: 0.03732, params: {'rfc_est__max_depth': 55},\n",
       "  mean: 0.79910, std: 0.05469, params: {'rfc_est__max_depth': 56},\n",
       "  mean: 0.80471, std: 0.04023, params: {'rfc_est__max_depth': 57},\n",
       "  mean: 0.80920, std: 0.03152, params: {'rfc_est__max_depth': 58},\n",
       "  mean: 0.81481, std: 0.04865, params: {'rfc_est__max_depth': 59},\n",
       "  mean: 0.82043, std: 0.03280, params: {'rfc_est__max_depth': 60},\n",
       "  mean: 0.81594, std: 0.04805, params: {'rfc_est__max_depth': 61},\n",
       "  mean: 0.81481, std: 0.03587, params: {'rfc_est__max_depth': 62},\n",
       "  mean: 0.81145, std: 0.03437, params: {'rfc_est__max_depth': 63},\n",
       "  mean: 0.80584, std: 0.02883, params: {'rfc_est__max_depth': 64},\n",
       "  mean: 0.80471, std: 0.03505, params: {'rfc_est__max_depth': 65},\n",
       "  mean: 0.80471, std: 0.03881, params: {'rfc_est__max_depth': 66},\n",
       "  mean: 0.81594, std: 0.03533, params: {'rfc_est__max_depth': 67},\n",
       "  mean: 0.81033, std: 0.03058, params: {'rfc_est__max_depth': 68},\n",
       "  mean: 0.81145, std: 0.02388, params: {'rfc_est__max_depth': 69},\n",
       "  mean: 0.80247, std: 0.03920, params: {'rfc_est__max_depth': 70},\n",
       "  mean: 0.81481, std: 0.03530, params: {'rfc_est__max_depth': 71},\n",
       "  mean: 0.80359, std: 0.04786, params: {'rfc_est__max_depth': 72},\n",
       "  mean: 0.80247, std: 0.02393, params: {'rfc_est__max_depth': 73},\n",
       "  mean: 0.79574, std: 0.03432, params: {'rfc_est__max_depth': 74},\n",
       "  mean: 0.80920, std: 0.03686, params: {'rfc_est__max_depth': 75},\n",
       "  mean: 0.82155, std: 0.03736, params: {'rfc_est__max_depth': 76},\n",
       "  mean: 0.80471, std: 0.04163, params: {'rfc_est__max_depth': 77},\n",
       "  mean: 0.81481, std: 0.04089, params: {'rfc_est__max_depth': 78},\n",
       "  mean: 0.80808, std: 0.04176, params: {'rfc_est__max_depth': 79},\n",
       "  mean: 0.80584, std: 0.03175, params: {'rfc_est__max_depth': 80},\n",
       "  mean: 0.81481, std: 0.02580, params: {'rfc_est__max_depth': 81},\n",
       "  mean: 0.81481, std: 0.02858, params: {'rfc_est__max_depth': 82},\n",
       "  mean: 0.81706, std: 0.03535, params: {'rfc_est__max_depth': 83},\n",
       "  mean: 0.81369, std: 0.04556, params: {'rfc_est__max_depth': 84},\n",
       "  mean: 0.81033, std: 0.05011, params: {'rfc_est__max_depth': 85},\n",
       "  mean: 0.81257, std: 0.03853, params: {'rfc_est__max_depth': 86},\n",
       "  mean: 0.80584, std: 0.04180, params: {'rfc_est__max_depth': 87},\n",
       "  mean: 0.80247, std: 0.03897, params: {'rfc_est__max_depth': 88},\n",
       "  mean: 0.80584, std: 0.03857, params: {'rfc_est__max_depth': 89},\n",
       "  mean: 0.80471, std: 0.03823, params: {'rfc_est__max_depth': 90},\n",
       "  mean: 0.80584, std: 0.02863, params: {'rfc_est__max_depth': 91},\n",
       "  mean: 0.80920, std: 0.03030, params: {'rfc_est__max_depth': 92},\n",
       "  mean: 0.81257, std: 0.03240, params: {'rfc_est__max_depth': 93},\n",
       "  mean: 0.81481, std: 0.02994, params: {'rfc_est__max_depth': 94},\n",
       "  mean: 0.80471, std: 0.03492, params: {'rfc_est__max_depth': 95},\n",
       "  mean: 0.81594, std: 0.03662, params: {'rfc_est__max_depth': 96},\n",
       "  mean: 0.81481, std: 0.03137, params: {'rfc_est__max_depth': 97},\n",
       "  mean: 0.80920, std: 0.04877, params: {'rfc_est__max_depth': 98},\n",
       "  mean: 0.81033, std: 0.04323, params: {'rfc_est__max_depth': 99}],\n",
       " {'rfc_est__max_depth': 7},\n",
       " 0.82828282828282829)"
      ]
     },
     "execution_count": 72,
     "metadata": {},
     "output_type": "execute_result"
    }
   ],
   "source": [
    "grid_ens_rfc.grid_scores_, grid_ens_rfc.best_params_, grid_ens_rfc.best_score_"
   ]
  },
  {
   "cell_type": "code",
   "execution_count": 73,
   "metadata": {},
   "outputs": [
    {
     "name": "stderr",
     "output_type": "stream",
     "text": [
      "/Users/Feldman/anaconda3/lib/python3.6/site-packages/sklearn/model_selection/_search.py:667: DeprecationWarning: The grid_scores_ attribute was deprecated in version 0.18 in favor of the more elaborate cv_results_ attribute. The grid_scores_ attribute will not be available from 0.20\n",
      "  DeprecationWarning)\n"
     ]
    },
    {
     "data": {
      "text/plain": [
       "([mean: 0.78676, std: 0.04488, params: {'gbc_est__n_estimators': 30},\n",
       "  mean: 0.78900, std: 0.04482, params: {'gbc_est__n_estimators': 40},\n",
       "  mean: 0.79012, std: 0.03882, params: {'gbc_est__n_estimators': 50},\n",
       "  mean: 0.78900, std: 0.03569, params: {'gbc_est__n_estimators': 60},\n",
       "  mean: 0.79237, std: 0.03983, params: {'gbc_est__n_estimators': 70},\n",
       "  mean: 0.79798, std: 0.03645, params: {'gbc_est__n_estimators': 80},\n",
       "  mean: 0.80022, std: 0.03774, params: {'gbc_est__n_estimators': 90},\n",
       "  mean: 0.80359, std: 0.03816, params: {'gbc_est__n_estimators': 100},\n",
       "  mean: 0.80584, std: 0.03775, params: {'gbc_est__n_estimators': 110}],\n",
       " {'gbc_est__n_estimators': 110},\n",
       " 0.8058361391694725)"
      ]
     },
     "execution_count": 73,
     "metadata": {},
     "output_type": "execute_result"
    }
   ],
   "source": [
    "grid_ens_gbc.grid_scores_, grid_ens_gbc.best_params_, grid_ens_gbc.best_score_"
   ]
  },
  {
   "cell_type": "code",
   "execution_count": 74,
   "metadata": {},
   "outputs": [
    {
     "name": "stderr",
     "output_type": "stream",
     "text": [
      "/Users/Feldman/anaconda3/lib/python3.6/site-packages/sklearn/model_selection/_search.py:667: DeprecationWarning: The grid_scores_ attribute was deprecated in version 0.18 in favor of the more elaborate cv_results_ attribute. The grid_scores_ attribute will not be available from 0.20\n",
      "  DeprecationWarning)\n"
     ]
    },
    {
     "data": {
      "text/plain": [
       "([mean: 0.80359, std: 0.03636, params: {'lgr_est__C': 1},\n",
       "  mean: 0.80022, std: 0.04081, params: {'lgr_est__C': 10},\n",
       "  mean: 0.79910, std: 0.04065, params: {'lgr_est__C': 100},\n",
       "  mean: 0.79798, std: 0.04205, params: {'lgr_est__C': 1000},\n",
       "  mean: 0.79798, std: 0.04205, params: {'lgr_est__C': 10000}],\n",
       " {'lgr_est__C': 1},\n",
       " 0.80359147025813693)"
      ]
     },
     "execution_count": 74,
     "metadata": {},
     "output_type": "execute_result"
    }
   ],
   "source": [
    "grid_ens_lgr.grid_scores_, grid_ens_lgr.best_params_, grid_ens_lgr.best_score_"
   ]
  },
  {
   "cell_type": "code",
   "execution_count": 84,
   "metadata": {},
   "outputs": [],
   "source": [
    "# получаем предсказания вероятностей ансамблей на кросс-валидации для обучающей выборки\n",
    "rf_train_pred = cross_val_predict_proba(rf_estimator, X_train, y_train)\n",
    "gb_train_pred = cross_val_predict_proba(gb_estimator, X_train, y_train)\n",
    "lgr_train_pred = cross_val_predict_proba(lgr_estimator, X_train, y_train)\n",
    "\n",
    "\n",
    "\n",
    "# получаем предсказания ансамблей для тестовой выборки\n",
    "rf_test_pred = rf_estimator.fit(X_train, y_train).predict_proba(X_test)\n",
    "gb_test_pred = gb_estimator.fit(X_train, y_train).predict_proba(X_test)\n",
    "lgr_test_pred = lgr_estimator.fit(X_train, y_train).predict_proba(X_test)\n",
    "\n"
   ]
  },
  {
   "cell_type": "code",
   "execution_count": 90,
   "metadata": {},
   "outputs": [],
   "source": [
    "train_array = [rf_train_pred[:,1], gb_train_pred[:,1], lgr_train_pred[:,1]]\n",
    "test_array = [rf_test_pred[:,1], gb_test_pred[:,1], lgr_test_pred[:,1]]\n",
    "#X_train_stack = np.stack([rf_train_pred[:,1], gb_train_pred[:,1]], lgr_train_pred[:,1], axis=1)\n",
    "X_train_stack = np.stack(train_array, axis=1)\n",
    "X_test_stack = np.stack(test_array, axis=1)"
   ]
  },
  {
   "cell_type": "code",
   "execution_count": null,
   "metadata": {},
   "outputs": [],
   "source": []
  },
  {
   "cell_type": "code",
   "execution_count": null,
   "metadata": {
    "collapsed": true
   },
   "outputs": [],
   "source": []
  },
  {
   "cell_type": "markdown",
   "metadata": {},
   "source": [
    "## Объединяем предсказания ансамблей с помощью логистической регрессии"
   ]
  },
  {
   "cell_type": "code",
   "execution_count": 91,
   "metadata": {},
   "outputs": [],
   "source": [
    "# TODO: подобрать гиперпараметры LogisticRegression\n",
    "\n",
    "\n",
    "\n",
    "\n",
    "kfold = KFold(n_splits=10, shuffle=True, random_state=1243)\n",
    "\n",
    "pipeline = Pipeline(steps=[\n",
    "                           ('model', LogisticRegression(C=1, penalty='l2'))\n",
    "                          ])\n",
    "\n",
    "param_grid = {'model__C': [1,10,100,1000,10000]}\n",
    "\n",
    "grid = GridSearchCV(pipeline, param_grid, \n",
    "                    scoring=make_scorer(accuracy_score),\n",
    "                    cv=kfold)"
   ]
  },
  {
   "cell_type": "code",
   "execution_count": 92,
   "metadata": {},
   "outputs": [
    {
     "data": {
      "text/plain": [
       "array([ 0.81818182,  0.81705948,  0.81705948,  0.81705948,  0.81705948])"
      ]
     },
     "execution_count": 92,
     "metadata": {},
     "output_type": "execute_result"
    }
   ],
   "source": [
    "\n",
    "\n",
    "\n",
    "\n",
    "logreg = grid.fit(X_train_stack, y_train)\n",
    "predicted = logreg.predict(X_test_stack)\n",
    "logreg.cv_results_['mean_test_score']"
   ]
  },
  {
   "cell_type": "code",
   "execution_count": 93,
   "metadata": {},
   "outputs": [
    {
     "name": "stderr",
     "output_type": "stream",
     "text": [
      "/Users/Feldman/anaconda3/lib/python3.6/site-packages/sklearn/model_selection/_search.py:667: DeprecationWarning: The grid_scores_ attribute was deprecated in version 0.18 in favor of the more elaborate cv_results_ attribute. The grid_scores_ attribute will not be available from 0.20\n",
      "  DeprecationWarning)\n"
     ]
    },
    {
     "data": {
      "text/plain": [
       "([mean: 0.81818, std: 0.03639, params: {'model__C': 1},\n",
       "  mean: 0.81706, std: 0.03758, params: {'model__C': 10},\n",
       "  mean: 0.81706, std: 0.03758, params: {'model__C': 100},\n",
       "  mean: 0.81706, std: 0.03758, params: {'model__C': 1000},\n",
       "  mean: 0.81706, std: 0.03758, params: {'model__C': 10000}],\n",
       " {'model__C': 1},\n",
       " 0.81818181818181823)"
      ]
     },
     "execution_count": 93,
     "metadata": {},
     "output_type": "execute_result"
    }
   ],
   "source": [
    "logreg.grid_scores_, logreg.best_params_, logreg.best_score_"
   ]
  },
  {
   "cell_type": "code",
   "execution_count": 94,
   "metadata": {},
   "outputs": [
    {
     "data": {
      "image/png": "[encoded data removed]",
      "text/plain": [
       "<matplotlib.figure.Figure at 0x11788e390>"
      ]
     },
     "metadata": {},
     "output_type": "display_data"
    }
   ],
   "source": [
    "pairs = np.array(sorted(zip(y_train, predicted)))\n",
    "plt.plot(range(0, len(pairs)), pairs[:,1], 'bo',\n",
    "         range(0, len(pairs)), pairs[:,0], 'r-',)\n",
    "plt.show()"
   ]
  },
  {
   "cell_type": "code",
   "execution_count": null,
   "metadata": {},
   "outputs": [],
   "source": []
  },
  {
   "cell_type": "code",
   "execution_count": null,
   "metadata": {},
   "outputs": [],
   "source": []
  },
  {
   "cell_type": "markdown",
   "metadata": {},
   "source": [
    "## Формируем фалй для отправки"
   ]
  },
  {
   "cell_type": "code",
   "execution_count": 95,
   "metadata": {
    "collapsed": true
   },
   "outputs": [],
   "source": [
    "with open('submission.txt', 'w') as out:\n",
    "    out.write('PassengerId,Survived\\n')\n",
    "    for passenger, y in zip(test['PassengerId'], predicted):\n",
    "        out.write('%s,%s\\n' % (passenger, y))"
   ]
  },
  {
   "cell_type": "code",
   "execution_count": null,
   "metadata": {
    "collapsed": true
   },
   "outputs": [],
   "source": []
  }
 ],
 "metadata": {
  "kernelspec": {
   "display_name": "Python 3",
   "language": "python",
   "name": "python3"
  },
  "language_info": {
   "codemirror_mode": {
    "name": "ipython",
    "version": 3
   },
   "file_extension": ".py",
   "mimetype": "text/x-python",
   "name": "python",
   "nbconvert_exporter": "python",
   "pygments_lexer": "ipython3",
   "version": "3.6.1"
  }
 },
 "nbformat": 4,
 "nbformat_minor": 2
}
